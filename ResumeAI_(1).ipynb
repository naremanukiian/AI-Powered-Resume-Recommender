{
  "nbformat": 4,
  "nbformat_minor": 0,
  "metadata": {
    "colab": {
      "provenance": []
    },
    "kernelspec": {
      "name": "python3",
      "display_name": "Python 3"
    },
    "language_info": {
      "name": "python"
    }
  },
  "cells": [
    {
      "cell_type": "markdown",
      "source": [
        "# *AI-Powered Resume Recommendation System with Streamlit and OpenAI Integration*\n",
        "\n",
        "---\n",
        "\n",
        "\n",
        "This project creates an AI-powered resume recommendation system using OpenAI's GPT-3.5 model, Streamlit for the user interface, and ngrok for exposing the app to the internet. Users can paste their resume and a job description into the app to receive tailored recommendations. The system analyzes the input and generates suggestions for resume improvements, matching skills, and the best type of resume for the job. The project demonstrates a seamless integration of AI, interactive web interfaces, and cloud tunneling services to make the tool accessible online. The app is hosted locally using Streamlit, and ngrok is used to create a public URL, making the app available to anyone via the internet."
      ],
      "metadata": {
        "id": "06K8_mk-s_Cc"
      }
    },
    {
      "cell_type": "markdown",
      "source": [
        "# Part 1: Installing Required Libraries\n",
        "This section installs the necessary Python libraries for the project. It uses the pip command to install streamlit for building the web app, pyngrok for creating a secure tunnel to make the app accessible over the internet, and openai for integrating OpenAI's GPT API for resume analysis and recommendations. The -q flag ensures the installation is quiet, suppressing unnecessary output."
      ],
      "metadata": {
        "id": "a2BR3cQorDT_"
      }
    },
    {
      "cell_type": "code",
      "source": [
        "!pip install -q streamlit pyngrok openai"
      ],
      "metadata": {
        "colab": {
          "base_uri": "https://localhost:8080/"
        },
        "id": "NNF9N1tpn2yy",
        "outputId": "d9fc8bb2-a223-4e10-c4b9-e04ec551e575"
      },
      "execution_count": null,
      "outputs": [
        {
          "output_type": "stream",
          "name": "stdout",
          "text": [
            "\u001b[2K     \u001b[90m━━━━━━━━━━━━━━━━━━━━━━━━━━━━━━━━━━━━━━━━\u001b[0m \u001b[32m44.3/44.3 kB\u001b[0m \u001b[31m3.0 MB/s\u001b[0m eta \u001b[36m0:00:00\u001b[0m\n",
            "\u001b[2K   \u001b[90m━━━━━━━━━━━━━━━━━━━━━━━━━━━━━━━━━━━━━━━━\u001b[0m \u001b[32m9.9/9.9 MB\u001b[0m \u001b[31m107.2 MB/s\u001b[0m eta \u001b[36m0:00:00\u001b[0m\n",
            "\u001b[2K   \u001b[90m━━━━━━━━━━━━━━━━━━━━━━━━━━━━━━━━━━━━━━━━\u001b[0m \u001b[32m6.9/6.9 MB\u001b[0m \u001b[31m101.3 MB/s\u001b[0m eta \u001b[36m0:00:00\u001b[0m\n",
            "\u001b[2K   \u001b[90m━━━━━━━━━━━━━━━━━━━━━━━━━━━━━━━━━━━━━━━━\u001b[0m \u001b[32m79.1/79.1 kB\u001b[0m \u001b[31m6.0 MB/s\u001b[0m eta \u001b[36m0:00:00\u001b[0m\n",
            "\u001b[?25h"
          ]
        }
      ]
    },
    {
      "cell_type": "markdown",
      "source": [
        "# Part 2: Defining the Streamlit App and OpenAI Integration\n",
        "In this section, the core logic of the AI-powered resume recommendation system is implemented. The code uses streamlit to create a user interface that allows the user to input their resume/profile and job description. It also integrates OpenAI's API to generate a tailored resume recommendation based on the input. The OpenAI client is initialized with the provided API key, and a button is created to trigger the recommendation generation. The system formulates a prompt for OpenAI's GPT model to analyze the inputs and provide insights such as resume type, matching skills, improvement suggestions, and a detailed explanation. The st.spinner shows a loading indicator while the API processes the request, and any errors are handled with exception handling to ensure smooth user experience."
      ],
      "metadata": {
        "id": "f2VV9t8GrPs8"
      }
    },
    {
      "cell_type": "code",
      "source": [
        "%%writefile app.py\n",
        "import streamlit as st\n",
        "from openai import OpenAI\n",
        "import traceback\n",
        "\n",
        "client = OpenAI(api_key=\"YOUR API\")\n",
        "\n",
        "st.title(\"📄 AI-Powered Resume Recommendation System\")\n",
        "st.markdown(\"Paste your resume/profile and the job description to get tailored resume suggestions.\")\n",
        "\n",
        "profile_text = st.text_area(\"Your Profile\", height=150, placeholder=\"Paste your profile here...\")\n",
        "job_text = st.text_area(\"Job Description\", height=150, placeholder=\"Paste the job description here...\")\n",
        "\n",
        "if st.button(\"Generate Recommendation\"):\n",
        "    with st.spinner(\"Analyzing and generating recommendation...\"):\n",
        "        try:\n",
        "            prompt = f\"\"\"\n",
        "            You are an AI assistant helping someone choose the best version of their resume.\n",
        "\n",
        "            User Profile:\n",
        "            \\\"\\\"\\\"{profile_text}\\\"\\\"\\\"\n",
        "\n",
        "            Job Description:\n",
        "            \\\"\\\"\\\"{job_text}\\\"\\\"\\\"\n",
        "\n",
        "            Provide:\n",
        "            1. Recommended Resume Type\n",
        "            2. Matching Skills\n",
        "            3. Ways to Improve Resume\n",
        "            4. Explanation\n",
        "            \"\"\"\n",
        "            response = client.chat.completions.create(\n",
        "                model=\"gpt-3.5-turbo\",\n",
        "                messages=[\n",
        "                    {\"role\": \"system\", \"content\": \"You are a helpful assistant.\"},\n",
        "                    {\"role\": \"user\", \"content\": prompt}\n",
        "                ],\n",
        "                max_tokens=500,\n",
        "                temperature=0.7\n",
        "            )\n",
        "            result = response.choices[0].message.content.strip()\n",
        "            st.markdown(\"### 🧠 Resume Recommendation\")\n",
        "            st.markdown(result)\n",
        "        except Exception as e:\n",
        "            st.error(\"⚠️ Something went wrong. Please check the API key or your input.\")\n",
        "            st.text(traceback.format_exc())\n"
      ],
      "metadata": {
        "colab": {
          "base_uri": "https://localhost:8080/"
        },
        "id": "hlwU8U2zn3Yi",
        "outputId": "f4338c9c-07f3-4083-828c-8778612ef886"
      },
      "execution_count": null,
      "outputs": [
        {
          "output_type": "stream",
          "name": "stdout",
          "text": [
            "Writing app.py\n"
          ]
        }
      ]
    },
    {
      "cell_type": "markdown",
      "source": [
        "# Part 3: Setting Up ngrok Authentication\n",
        "In this section, the pyngrok library is used to create a secure tunnel to the Streamlit app, enabling it to be accessed externally via a public URL. The authentication token for ngrok is set using the provided token, which allows the app to be exposed through a public URL. This is essential for sharing the app with others over the internet, even though it's running locally on the user's machine. The set_auth_token function configures the ngrok client with the necessary credentials for establishing the tunnel."
      ],
      "metadata": {
        "id": "ALRqF8MbrhEC"
      }
    },
    {
      "cell_type": "code",
      "source": [
        "from pyngrok import ngrok\n",
        "\n",
        "ngrok.set_auth_token(\"YOUR NGROK TOKEN\")"
      ],
      "metadata": {
        "colab": {
          "base_uri": "https://localhost:8080/"
        },
        "id": "zTQ6-8WyoBy5",
        "outputId": "9731c35e-5af2-4627-f04a-f3427f17391f"
      },
      "execution_count": null,
      "outputs": [
        {
          "output_type": "stream",
          "name": "stdout",
          "text": []
        }
      ]
    },
    {
      "cell_type": "markdown",
      "source": [
        "# Part 4: Running Streamlit App in a Separate Thread and Creating ngrok Tunnel\n",
        "This section initiates the Streamlit app in a separate thread to avoid blocking the main execution of the code. The threading module is used to run the Streamlit app (app.py) in the background on port 8501. After starting the app, the script waits for 5 seconds to allow the app to fully initialize before creating the ngrok tunnel. The ngrok.connect method is used to expose the local app to the public by generating a public URL. This URL can then be used to access the app from anywhere. The print statement outputs the public URL where the app is live."
      ],
      "metadata": {
        "id": "S4GacWTrruno"
      }
    },
    {
      "cell_type": "code",
      "source": [
        "import threading\n",
        "import time\n",
        "\n",
        "# Function to run Streamlit app\n",
        "def run():\n",
        "    !streamlit run app.py --server.port 8501\n",
        "\n",
        "# Start Streamlit app in a separate thread\n",
        "thread = threading.Thread(target=run)\n",
        "thread.start()\n",
        "\n",
        "# Wait for the app to start\n",
        "time.sleep(5)\n",
        "\n",
        "# Create ngrok tunnel\n",
        "public_url = ngrok.connect(addr=8501, proto=\"http\")\n",
        "print(f\"🌐 Your app is live at: {public_url}\")\n"
      ],
      "metadata": {
        "colab": {
          "base_uri": "https://localhost:8080/"
        },
        "id": "wCXGuskVoE9p",
        "outputId": "14b669bd-4217-4156-f650-ee0bd10ff6cf"
      },
      "execution_count": null,
      "outputs": [
        {
          "output_type": "stream",
          "name": "stdout",
          "text": [
            "\n",
            "Collecting usage statistics. To deactivate, set browser.gatherUsageStats to false.\n",
            "\u001b[0m\n",
            "\u001b[0m\n",
            "\u001b[34m\u001b[1m  You can now view your Streamlit app in your browser.\u001b[0m\n",
            "\u001b[0m\n",
            "\u001b[34m  Local URL: \u001b[0m\u001b[1mhttp://localhost:8501\u001b[0m\n",
            "\u001b[34m  Network URL: \u001b[0m\u001b[1mhttp://172.28.0.12:8501\u001b[0m\n",
            "\u001b[34m  External URL: \u001b[0m\u001b[1mhttp://34.85.185.76:8501\u001b[0m\n",
            "\u001b[0m\n",
            "🌐 Your app is live at: NgrokTunnel: \"https://ebfa-34-85-185-76.ngrok-free.app\" -> \"http://localhost:8501\"\n"
          ]
        }
      ]
    }
  ]
}